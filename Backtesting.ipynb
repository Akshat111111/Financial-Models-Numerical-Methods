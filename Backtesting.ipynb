{
  "cells": [
    {
      "cell_type": "code",
      "execution_count": null,
      "id": "helpful-sandwich",
      "metadata": {
        "id": "helpful-sandwich"
      },
      "outputs": [],
      "source": [
        "import requests, pandas as pd, numpy as np, datetime as dt, warnings"
      ]
    },
    {
      "cell_type": "code",
      "execution_count": null,
      "id": "musical-writer",
      "metadata": {
        "id": "musical-writer"
      },
      "outputs": [],
      "source": [
        "warnings.filterwarnings(\"ignore\")"
      ]
    },
    {
      "cell_type": "code",
      "execution_count": null,
      "id": "fatty-general",
      "metadata": {
        "id": "fatty-general"
      },
      "outputs": [],
      "source": [
        "start_date1 = dt.datetime(2021,7,4)"
      ]
    },
    {
      "cell_type": "code",
      "execution_count": null,
      "id": "italian-outside",
      "metadata": {
        "id": "italian-outside"
      },
      "outputs": [],
      "source": [
        "api_key = '2f0fdd5d49254c06b7dc54cc45a4b628'"
      ]
    },
    {
      "cell_type": "code",
      "execution_count": null,
      "id": "technical-traffic",
      "metadata": {
        "id": "technical-traffic"
      },
      "outputs": [],
      "source": [
        "symbol = 'BTC/USD'\n",
        "interval = '5min'\n",
        "order = 'asc'"
      ]
    },
    {
      "cell_type": "code",
      "execution_count": null,
      "id": "stable-dakota",
      "metadata": {
        "id": "stable-dakota"
      },
      "outputs": [],
      "source": [
        "end_date = start_date1\n",
        "start_date = end_date - dt.timedelta(days = 1)"
      ]
    },
    {
      "cell_type": "code",
      "execution_count": null,
      "id": "supported-return",
      "metadata": {
        "id": "supported-return"
      },
      "outputs": [],
      "source": [
        "api_url = f'https://api.twelvedata.com/time_series?symbol={symbol}&start_date={start_date}&end_date={end_date}&interval={interval}&order={order}&apikey={api_key}'"
      ]
    },
    {
      "cell_type": "code",
      "execution_count": null,
      "id": "awful-hammer",
      "metadata": {
        "id": "awful-hammer"
      },
      "outputs": [],
      "source": [
        "data = requests.get(api_url).json()"
      ]
    },
    {
      "cell_type": "code",
      "execution_count": null,
      "id": "frank-blast",
      "metadata": {
        "id": "frank-blast",
        "outputId": "75fb0d02-21dc-4c99-cccc-df0af8907d3e"
      },
      "outputs": [
        {
          "data": {
            "text/html": [
              "<div>\n",
              "<style scoped>\n",
              "    .dataframe tbody tr th:only-of-type {\n",
              "        vertical-align: middle;\n",
              "    }\n",
              "\n",
              "    .dataframe tbody tr th {\n",
              "        vertical-align: top;\n",
              "    }\n",
              "\n",
              "    .dataframe thead th {\n",
              "        text-align: right;\n",
              "    }\n",
              "</style>\n",
              "<table border=\"1\" class=\"dataframe\">\n",
              "  <thead>\n",
              "    <tr style=\"text-align: right;\">\n",
              "      <th></th>\n",
              "      <th>datetime</th>\n",
              "      <th>open</th>\n",
              "      <th>high</th>\n",
              "      <th>low</th>\n",
              "      <th>close</th>\n",
              "    </tr>\n",
              "  </thead>\n",
              "  <tbody>\n",
              "    <tr>\n",
              "      <th>0</th>\n",
              "      <td>2021-07-03 00:00:00</td>\n",
              "      <td>33796.53906</td>\n",
              "      <td>33888.01172</td>\n",
              "      <td>33796.53906</td>\n",
              "      <td>33806.33984</td>\n",
              "    </tr>\n",
              "    <tr>\n",
              "      <th>1</th>\n",
              "      <td>2021-07-03 00:05:00</td>\n",
              "      <td>33745.39844</td>\n",
              "      <td>33753.60938</td>\n",
              "      <td>33692.62109</td>\n",
              "      <td>33703.26953</td>\n",
              "    </tr>\n",
              "    <tr>\n",
              "      <th>2</th>\n",
              "      <td>2021-07-03 00:10:00</td>\n",
              "      <td>33700.44922</td>\n",
              "      <td>33702.21094</td>\n",
              "      <td>33646.35156</td>\n",
              "      <td>33658.35938</td>\n",
              "    </tr>\n",
              "    <tr>\n",
              "      <th>3</th>\n",
              "      <td>2021-07-03 00:15:00</td>\n",
              "      <td>33698.83984</td>\n",
              "      <td>33698.83984</td>\n",
              "      <td>33645.16016</td>\n",
              "      <td>33687.26172</td>\n",
              "    </tr>\n",
              "    <tr>\n",
              "      <th>4</th>\n",
              "      <td>2021-07-03 00:20:00</td>\n",
              "      <td>33675.35156</td>\n",
              "      <td>33675.35156</td>\n",
              "      <td>33649.28906</td>\n",
              "      <td>33649.28906</td>\n",
              "    </tr>\n",
              "    <tr>\n",
              "      <th>...</th>\n",
              "      <td>...</td>\n",
              "      <td>...</td>\n",
              "      <td>...</td>\n",
              "      <td>...</td>\n",
              "      <td>...</td>\n",
              "    </tr>\n",
              "    <tr>\n",
              "      <th>236</th>\n",
              "      <td>2021-07-03 19:40:00</td>\n",
              "      <td>34687.71875</td>\n",
              "      <td>34697.67969</td>\n",
              "      <td>34670.05078</td>\n",
              "      <td>34682.98047</td>\n",
              "    </tr>\n",
              "    <tr>\n",
              "      <th>237</th>\n",
              "      <td>2021-07-03 19:45:00</td>\n",
              "      <td>34685.16016</td>\n",
              "      <td>34691.94141</td>\n",
              "      <td>34651.76172</td>\n",
              "      <td>34691.94141</td>\n",
              "    </tr>\n",
              "    <tr>\n",
              "      <th>238</th>\n",
              "      <td>2021-07-03 19:50:00</td>\n",
              "      <td>34695.35938</td>\n",
              "      <td>34769.44922</td>\n",
              "      <td>34695.35938</td>\n",
              "      <td>34769.44922</td>\n",
              "    </tr>\n",
              "    <tr>\n",
              "      <th>239</th>\n",
              "      <td>2021-07-03 19:55:00</td>\n",
              "      <td>34762.17188</td>\n",
              "      <td>34764.83984</td>\n",
              "      <td>34743.75000</td>\n",
              "      <td>34747.35938</td>\n",
              "    </tr>\n",
              "    <tr>\n",
              "      <th>240</th>\n",
              "      <td>2021-07-03 20:00:00</td>\n",
              "      <td>34742.48047</td>\n",
              "      <td>34742.48047</td>\n",
              "      <td>34742.48047</td>\n",
              "      <td>34742.48047</td>\n",
              "    </tr>\n",
              "  </tbody>\n",
              "</table>\n",
              "<p>241 rows × 5 columns</p>\n",
              "</div>"
            ],
            "text/plain": [
              "                datetime         open         high          low        close\n",
              "0    2021-07-03 00:00:00  33796.53906  33888.01172  33796.53906  33806.33984\n",
              "1    2021-07-03 00:05:00  33745.39844  33753.60938  33692.62109  33703.26953\n",
              "2    2021-07-03 00:10:00  33700.44922  33702.21094  33646.35156  33658.35938\n",
              "3    2021-07-03 00:15:00  33698.83984  33698.83984  33645.16016  33687.26172\n",
              "4    2021-07-03 00:20:00  33675.35156  33675.35156  33649.28906  33649.28906\n",
              "..                   ...          ...          ...          ...          ...\n",
              "236  2021-07-03 19:40:00  34687.71875  34697.67969  34670.05078  34682.98047\n",
              "237  2021-07-03 19:45:00  34685.16016  34691.94141  34651.76172  34691.94141\n",
              "238  2021-07-03 19:50:00  34695.35938  34769.44922  34695.35938  34769.44922\n",
              "239  2021-07-03 19:55:00  34762.17188  34764.83984  34743.75000  34747.35938\n",
              "240  2021-07-03 20:00:00  34742.48047  34742.48047  34742.48047  34742.48047\n",
              "\n",
              "[241 rows x 5 columns]"
            ]
          },
          "execution_count": 26,
          "metadata": {},
          "output_type": "execute_result"
        }
      ],
      "source": [
        "data_final = pd.DataFrame(data['values'])\n",
        "data_final"
      ]
    },
    {
      "cell_type": "code",
      "execution_count": null,
      "id": "returning-cycle",
      "metadata": {
        "id": "returning-cycle"
      },
      "outputs": [],
      "source": [
        "n = 4\n",
        "\n",
        "final_df = pd.DataFrame()\n",
        "\n",
        "for i in range(n):\n",
        "    i = n-i-1\n",
        "    end_date = start_date1 - dt.timedelta(days = 15*i)\n",
        "    start_date = end_date - dt.timedelta(days = 15)\n",
        "\n",
        "    api_url = f'https://api.twelvedata.com/time_series?symbol={symbol}&start_date={start_date}&end_date={end_date}&interval={interval}&order={order}&apikey={api_key}'\n",
        "    data = requests.get(api_url).json()\n",
        "    data_final = pd.DataFrame(data['values'])\n",
        "    final_df = pd.concat([final_df, data_final[:-1]], ignore_index=True)"
      ]
    },
    {
      "cell_type": "code",
      "execution_count": null,
      "id": "overhead-granny",
      "metadata": {
        "id": "overhead-granny"
      },
      "outputs": [],
      "source": [
        "from talib import abstract\n",
        "\n",
        "integer = abstract.CDLENGULFING(final_df)\n",
        "final_df['Engulfing'] = integer"
      ]
    },
    {
      "cell_type": "code",
      "execution_count": null,
      "id": "associate-latino",
      "metadata": {
        "id": "associate-latino",
        "outputId": "1d0d71e2-6713-462e-e81f-c032b7ad5312"
      },
      "outputs": [
        {
          "data": {
            "text/html": [
              "<div>\n",
              "<style scoped>\n",
              "    .dataframe tbody tr th:only-of-type {\n",
              "        vertical-align: middle;\n",
              "    }\n",
              "\n",
              "    .dataframe tbody tr th {\n",
              "        vertical-align: top;\n",
              "    }\n",
              "\n",
              "    .dataframe thead th {\n",
              "        text-align: right;\n",
              "    }\n",
              "</style>\n",
              "<table border=\"1\" class=\"dataframe\">\n",
              "  <thead>\n",
              "    <tr style=\"text-align: right;\">\n",
              "      <th></th>\n",
              "      <th>datetime</th>\n",
              "      <th>open</th>\n",
              "      <th>high</th>\n",
              "      <th>low</th>\n",
              "      <th>close</th>\n",
              "      <th>Engulfing</th>\n",
              "    </tr>\n",
              "  </thead>\n",
              "  <tbody>\n",
              "    <tr>\n",
              "      <th>63</th>\n",
              "      <td>2021-05-05 09:25:00</td>\n",
              "      <td>55279.82812</td>\n",
              "      <td>55305.96094</td>\n",
              "      <td>55116.60938</td>\n",
              "      <td>55116.60938</td>\n",
              "      <td>-100</td>\n",
              "    </tr>\n",
              "    <tr>\n",
              "      <th>92</th>\n",
              "      <td>2021-05-05 11:50:00</td>\n",
              "      <td>55243.37109</td>\n",
              "      <td>55250.00000</td>\n",
              "      <td>55047.23047</td>\n",
              "      <td>55098.96094</td>\n",
              "      <td>-100</td>\n",
              "    </tr>\n",
              "    <tr>\n",
              "      <th>116</th>\n",
              "      <td>2021-05-05 13:50:00</td>\n",
              "      <td>56215.60156</td>\n",
              "      <td>56215.60156</td>\n",
              "      <td>56123.53125</td>\n",
              "      <td>56123.53125</td>\n",
              "      <td>-100</td>\n",
              "    </tr>\n",
              "    <tr>\n",
              "      <th>118</th>\n",
              "      <td>2021-05-05 14:00:00</td>\n",
              "      <td>56252.76953</td>\n",
              "      <td>56252.76953</td>\n",
              "      <td>56050.87109</td>\n",
              "      <td>56050.87109</td>\n",
              "      <td>-100</td>\n",
              "    </tr>\n",
              "    <tr>\n",
              "      <th>121</th>\n",
              "      <td>2021-05-05 14:15:00</td>\n",
              "      <td>56067.17969</td>\n",
              "      <td>56067.17969</td>\n",
              "      <td>55753.51172</td>\n",
              "      <td>55753.51172</td>\n",
              "      <td>-100</td>\n",
              "    </tr>\n",
              "    <tr>\n",
              "      <th>...</th>\n",
              "      <td>...</td>\n",
              "      <td>...</td>\n",
              "      <td>...</td>\n",
              "      <td>...</td>\n",
              "      <td>...</td>\n",
              "      <td>...</td>\n",
              "    </tr>\n",
              "    <tr>\n",
              "      <th>17065</th>\n",
              "      <td>2021-07-03 10:45:00</td>\n",
              "      <td>34692.89062</td>\n",
              "      <td>34692.89062</td>\n",
              "      <td>34615.00000</td>\n",
              "      <td>34615.00000</td>\n",
              "      <td>-100</td>\n",
              "    </tr>\n",
              "    <tr>\n",
              "      <th>17071</th>\n",
              "      <td>2021-07-03 11:15:00</td>\n",
              "      <td>34608.80078</td>\n",
              "      <td>34608.80078</td>\n",
              "      <td>34501.71875</td>\n",
              "      <td>34501.71875</td>\n",
              "      <td>-100</td>\n",
              "    </tr>\n",
              "    <tr>\n",
              "      <th>17112</th>\n",
              "      <td>2021-07-03 14:40:00</td>\n",
              "      <td>34696.78125</td>\n",
              "      <td>34696.78125</td>\n",
              "      <td>34652.78906</td>\n",
              "      <td>34652.78906</td>\n",
              "      <td>-100</td>\n",
              "    </tr>\n",
              "    <tr>\n",
              "      <th>17122</th>\n",
              "      <td>2021-07-03 15:30:00</td>\n",
              "      <td>34634.92188</td>\n",
              "      <td>34634.92188</td>\n",
              "      <td>34576.39844</td>\n",
              "      <td>34592.23828</td>\n",
              "      <td>-100</td>\n",
              "    </tr>\n",
              "    <tr>\n",
              "      <th>17126</th>\n",
              "      <td>2021-07-03 15:50:00</td>\n",
              "      <td>34621.03125</td>\n",
              "      <td>34621.03125</td>\n",
              "      <td>34571.26172</td>\n",
              "      <td>34571.26172</td>\n",
              "      <td>-100</td>\n",
              "    </tr>\n",
              "  </tbody>\n",
              "</table>\n",
              "<p>711 rows × 6 columns</p>\n",
              "</div>"
            ],
            "text/plain": [
              "                  datetime         open         high          low  \\\n",
              "63     2021-05-05 09:25:00  55279.82812  55305.96094  55116.60938   \n",
              "92     2021-05-05 11:50:00  55243.37109  55250.00000  55047.23047   \n",
              "116    2021-05-05 13:50:00  56215.60156  56215.60156  56123.53125   \n",
              "118    2021-05-05 14:00:00  56252.76953  56252.76953  56050.87109   \n",
              "121    2021-05-05 14:15:00  56067.17969  56067.17969  55753.51172   \n",
              "...                    ...          ...          ...          ...   \n",
              "17065  2021-07-03 10:45:00  34692.89062  34692.89062  34615.00000   \n",
              "17071  2021-07-03 11:15:00  34608.80078  34608.80078  34501.71875   \n",
              "17112  2021-07-03 14:40:00  34696.78125  34696.78125  34652.78906   \n",
              "17122  2021-07-03 15:30:00  34634.92188  34634.92188  34576.39844   \n",
              "17126  2021-07-03 15:50:00  34621.03125  34621.03125  34571.26172   \n",
              "\n",
              "             close  Engulfing  \n",
              "63     55116.60938       -100  \n",
              "92     55098.96094       -100  \n",
              "116    56123.53125       -100  \n",
              "118    56050.87109       -100  \n",
              "121    55753.51172       -100  \n",
              "...            ...        ...  \n",
              "17065  34615.00000       -100  \n",
              "17071  34501.71875       -100  \n",
              "17112  34652.78906       -100  \n",
              "17122  34592.23828       -100  \n",
              "17126  34571.26172       -100  \n",
              "\n",
              "[711 rows x 6 columns]"
            ]
          },
          "execution_count": 34,
          "metadata": {},
          "output_type": "execute_result"
        }
      ],
      "source": [
        "final_df[final_df['Engulfing'] < 0]"
      ]
    },
    {
      "cell_type": "code",
      "execution_count": null,
      "id": "pending-integrity",
      "metadata": {
        "id": "pending-integrity"
      },
      "outputs": [],
      "source": [
        "amount = 1000\n",
        "core_trade_amount = 0.8*amount\n",
        "core_quantity = 0\n",
        "trade_amount = 0.2*amount\n",
        "core_to_trade = True\n",
        "\n",
        "portfolio = 0\n",
        "investment, real_time_portfolio_value, closes, highs, lows, opens = [], [], [], [], [], []\n",
        "money_end = amount"
      ]
    },
    {
      "cell_type": "code",
      "execution_count": null,
      "id": "qualified-shift",
      "metadata": {
        "id": "qualified-shift"
      },
      "outputs": [],
      "source": [
        "# Buying and Selling functions\n",
        "\n",
        "def buy(allocated_money, price):\n",
        "    global portfolio, money_end\n",
        "    quantity = allocated_money/price\n",
        "    money_end -= quantity*price\n",
        "    portfolio += quantity\n",
        "    if investment == []:\n",
        "        investment.append(allocated_money)\n",
        "    else:\n",
        "        investment.append(allocated_money)\n",
        "        investment[-1] += investment[-2]\n",
        "\n",
        "def sell(allocated_money, price):\n",
        "    global money_end, portfolio\n",
        "    quantity = allocated_money / price\n",
        "    money_end += allocated_money\n",
        "    portfolio -= quantity\n",
        "    investment.append(-allocated_money)\n",
        "    investment[-1] += investment[-2]"
      ]
    },
    {
      "cell_type": "code",
      "execution_count": null,
      "id": "rational-thailand",
      "metadata": {
        "id": "rational-thailand"
      },
      "outputs": [],
      "source": [
        "final_df['close'] = pd.to_numeric(final_df['close'], errors='coerce')"
      ]
    },
    {
      "cell_type": "code",
      "execution_count": null,
      "id": "thirty-liberty",
      "metadata": {
        "id": "thirty-liberty"
      },
      "outputs": [],
      "source": [
        "if core_to_trade:\n",
        "    buy(core_trade_amount,final_df['close'][0])\n",
        "    core_quantity += core_trade_amount/final_df['close'][0]\n",
        "    core_to_trade = False\n",
        "\n",
        "for i in range(final_df.shape[0]):\n",
        "    last_eng = final_df['Engulfing'][i]\n",
        "    amt = last_eng * trade_amount/100\n",
        "    last_price = final_df['close'][i]\n",
        "    port_value = (portfolio - core_quantity)*last_price\n",
        "    trade_amt = amt - port_value\n",
        "    if last_eng == 0:\n",
        "        trade_amt =0\n",
        "    else:\n",
        "        trade_amt = trade_amt\n",
        "    RT_portfolio_value = money_end + portfolio*last_price\n",
        "    final_df['rt_port_value'][i] += RT_portfolio_value\n",
        "\n",
        "    if trade_amt >= 0:\n",
        "        buy(trade_amt, last_price)\n",
        "    else:\n",
        "        sell(-trade_amt,last_price)"
      ]
    },
    {
      "cell_type": "code",
      "execution_count": null,
      "id": "egyptian-scotland",
      "metadata": {
        "id": "egyptian-scotland",
        "outputId": "36463f7e-9950-4b7f-fc57-80e9f6a25be1"
      },
      "outputs": [
        {
          "data": {
            "text/html": [
              "<div>\n",
              "<style scoped>\n",
              "    .dataframe tbody tr th:only-of-type {\n",
              "        vertical-align: middle;\n",
              "    }\n",
              "\n",
              "    .dataframe tbody tr th {\n",
              "        vertical-align: top;\n",
              "    }\n",
              "\n",
              "    .dataframe thead th {\n",
              "        text-align: right;\n",
              "    }\n",
              "</style>\n",
              "<table border=\"1\" class=\"dataframe\">\n",
              "  <thead>\n",
              "    <tr style=\"text-align: right;\">\n",
              "      <th></th>\n",
              "      <th>datetime</th>\n",
              "      <th>open</th>\n",
              "      <th>high</th>\n",
              "      <th>low</th>\n",
              "      <th>close</th>\n",
              "      <th>Engulfing</th>\n",
              "      <th>rt_port_value</th>\n",
              "    </tr>\n",
              "  </thead>\n",
              "  <tbody>\n",
              "    <tr>\n",
              "      <th>0</th>\n",
              "      <td>2021-05-05 03:00:00</td>\n",
              "      <td>55119.05078</td>\n",
              "      <td>55119.05078</td>\n",
              "      <td>55119.05078</td>\n",
              "      <td>55119.05078</td>\n",
              "      <td>0</td>\n",
              "      <td>1000</td>\n",
              "    </tr>\n",
              "    <tr>\n",
              "      <th>1</th>\n",
              "      <td>2021-05-05 04:10:00</td>\n",
              "      <td>54909.96094</td>\n",
              "      <td>54909.96094</td>\n",
              "      <td>54909.96094</td>\n",
              "      <td>54909.96094</td>\n",
              "      <td>0</td>\n",
              "      <td>996</td>\n",
              "    </tr>\n",
              "    <tr>\n",
              "      <th>2</th>\n",
              "      <td>2021-05-05 04:20:00</td>\n",
              "      <td>54830.21094</td>\n",
              "      <td>54830.21094</td>\n",
              "      <td>54830.21094</td>\n",
              "      <td>54830.21094</td>\n",
              "      <td>0</td>\n",
              "      <td>995</td>\n",
              "    </tr>\n",
              "    <tr>\n",
              "      <th>3</th>\n",
              "      <td>2021-05-05 04:25:00</td>\n",
              "      <td>54746.60156</td>\n",
              "      <td>54786.87891</td>\n",
              "      <td>54746.60156</td>\n",
              "      <td>54786.87891</td>\n",
              "      <td>0</td>\n",
              "      <td>995</td>\n",
              "    </tr>\n",
              "    <tr>\n",
              "      <th>4</th>\n",
              "      <td>2021-05-05 04:30:00</td>\n",
              "      <td>54821.94141</td>\n",
              "      <td>55249.98828</td>\n",
              "      <td>54821.94141</td>\n",
              "      <td>55249.98828</td>\n",
              "      <td>0</td>\n",
              "      <td>1001</td>\n",
              "    </tr>\n",
              "    <tr>\n",
              "      <th>...</th>\n",
              "      <td>...</td>\n",
              "      <td>...</td>\n",
              "      <td>...</td>\n",
              "      <td>...</td>\n",
              "      <td>...</td>\n",
              "      <td>...</td>\n",
              "      <td>...</td>\n",
              "    </tr>\n",
              "    <tr>\n",
              "      <th>17171</th>\n",
              "      <td>2021-07-03 19:35:00</td>\n",
              "      <td>34660.00000</td>\n",
              "      <td>34689.69922</td>\n",
              "      <td>34647.46094</td>\n",
              "      <td>34674.85938</td>\n",
              "      <td>0</td>\n",
              "      <td>434</td>\n",
              "    </tr>\n",
              "    <tr>\n",
              "      <th>17172</th>\n",
              "      <td>2021-07-03 19:40:00</td>\n",
              "      <td>34687.71875</td>\n",
              "      <td>34697.67969</td>\n",
              "      <td>34670.05078</td>\n",
              "      <td>34682.98047</td>\n",
              "      <td>0</td>\n",
              "      <td>434</td>\n",
              "    </tr>\n",
              "    <tr>\n",
              "      <th>17173</th>\n",
              "      <td>2021-07-03 19:45:00</td>\n",
              "      <td>34685.16016</td>\n",
              "      <td>34691.94141</td>\n",
              "      <td>34651.76172</td>\n",
              "      <td>34691.94141</td>\n",
              "      <td>0</td>\n",
              "      <td>434</td>\n",
              "    </tr>\n",
              "    <tr>\n",
              "      <th>17174</th>\n",
              "      <td>2021-07-03 19:50:00</td>\n",
              "      <td>34695.35938</td>\n",
              "      <td>34769.44922</td>\n",
              "      <td>34695.35938</td>\n",
              "      <td>34769.44922</td>\n",
              "      <td>0</td>\n",
              "      <td>436</td>\n",
              "    </tr>\n",
              "    <tr>\n",
              "      <th>17175</th>\n",
              "      <td>2021-07-03 19:55:00</td>\n",
              "      <td>34762.17188</td>\n",
              "      <td>34764.83984</td>\n",
              "      <td>34743.75000</td>\n",
              "      <td>34747.35938</td>\n",
              "      <td>0</td>\n",
              "      <td>435</td>\n",
              "    </tr>\n",
              "  </tbody>\n",
              "</table>\n",
              "<p>17176 rows × 7 columns</p>\n",
              "</div>"
            ],
            "text/plain": [
              "                  datetime         open         high          low  \\\n",
              "0      2021-05-05 03:00:00  55119.05078  55119.05078  55119.05078   \n",
              "1      2021-05-05 04:10:00  54909.96094  54909.96094  54909.96094   \n",
              "2      2021-05-05 04:20:00  54830.21094  54830.21094  54830.21094   \n",
              "3      2021-05-05 04:25:00  54746.60156  54786.87891  54746.60156   \n",
              "4      2021-05-05 04:30:00  54821.94141  55249.98828  54821.94141   \n",
              "...                    ...          ...          ...          ...   \n",
              "17171  2021-07-03 19:35:00  34660.00000  34689.69922  34647.46094   \n",
              "17172  2021-07-03 19:40:00  34687.71875  34697.67969  34670.05078   \n",
              "17173  2021-07-03 19:45:00  34685.16016  34691.94141  34651.76172   \n",
              "17174  2021-07-03 19:50:00  34695.35938  34769.44922  34695.35938   \n",
              "17175  2021-07-03 19:55:00  34762.17188  34764.83984  34743.75000   \n",
              "\n",
              "             close  Engulfing  rt_port_value  \n",
              "0      55119.05078          0           1000  \n",
              "1      54909.96094          0            996  \n",
              "2      54830.21094          0            995  \n",
              "3      54786.87891          0            995  \n",
              "4      55249.98828          0           1001  \n",
              "...            ...        ...            ...  \n",
              "17171  34674.85938          0            434  \n",
              "17172  34682.98047          0            434  \n",
              "17173  34691.94141          0            434  \n",
              "17174  34769.44922          0            436  \n",
              "17175  34747.35938          0            435  \n",
              "\n",
              "[17176 rows x 7 columns]"
            ]
          },
          "execution_count": 53,
          "metadata": {},
          "output_type": "execute_result"
        }
      ],
      "source": [
        "final_df"
      ]
    },
    {
      "cell_type": "code",
      "execution_count": null,
      "id": "serious-utility",
      "metadata": {
        "id": "serious-utility"
      },
      "outputs": [],
      "source": [
        "import matplotlib.pyplot as plt\n",
        "\n",
        "back = pd.read_csv('test_.csv')"
      ]
    },
    {
      "cell_type": "code",
      "execution_count": null,
      "id": "cellular-newark",
      "metadata": {
        "id": "cellular-newark",
        "outputId": "38733d69-f628-41c3-ac30-5f0fe118ac5b"
      },
      "outputs": [
        {
          "data": {
            "image/png": "[encoded data removed]",
            "text/plain": [
              "<Figure size 432x288 with 1 Axes>"
            ]
          },
          "metadata": {
            "needs_background": "light"
          },
          "output_type": "display_data"
        }
      ],
      "source": [
        "plt.plot(back['rt_port_value'])\n",
        "plt.plot(back['Bitcoin'])\n",
        "plt.show()"
      ]
    },
    {
      "cell_type": "code",
      "execution_count": null,
      "id": "liberal-ranch",
      "metadata": {
        "id": "liberal-ranch"
      },
      "outputs": [],
      "source": [
        "bot_ret = np.mean(np.log(final_df['rt_port_value']/final_df['rt_port_value'].shift(1)))\n",
        "btc_ret = np.mean(np.log(final_df['close']/final_df['close'].shift(1)))"
      ]
    },
    {
      "cell_type": "code",
      "execution_count": null,
      "id": "dietary-webmaster",
      "metadata": {
        "id": "dietary-webmaster"
      },
      "outputs": [],
      "source": [
        "bot_std = np.std(np.log(final_df['rt_port_value']/final_df['rt_port_value'].shift(1)))\n",
        "btc_std = np.std(np.log(final_df['close']/final_df['close'].shift(1)))"
      ]
    },
    {
      "cell_type": "code",
      "execution_count": null,
      "id": "atmospheric-guidance",
      "metadata": {
        "id": "atmospheric-guidance",
        "outputId": "95e19133-e8eb-41ad-b963-d67597e201cd"
      },
      "outputs": [
        {
          "data": {
            "text/plain": [
              "-0.011991890344845806"
            ]
          },
          "execution_count": 76,
          "metadata": {},
          "output_type": "execute_result"
        }
      ],
      "source": [
        "sharpe_bot = bot_ret / bot_std\n",
        "sharpe_bot"
      ]
    },
    {
      "cell_type": "code",
      "execution_count": null,
      "id": "breeding-diesel",
      "metadata": {
        "id": "breeding-diesel",
        "outputId": "6fba042c-748d-4585-a326-3eec2695141d"
      },
      "outputs": [
        {
          "data": {
            "text/plain": [
              "-0.0067180151630266876"
            ]
          },
          "execution_count": 77,
          "metadata": {},
          "output_type": "execute_result"
        }
      ],
      "source": [
        "sharpe_btc = btc_ret / btc_std\n",
        "sharpe_btc"
      ]
    },
    {
      "cell_type": "code",
      "execution_count": null,
      "id": "optimum-daisy",
      "metadata": {
        "id": "optimum-daisy",
        "outputId": "f573a00f-8430-4ce4-a969-544538227993"
      },
      "outputs": [
        {
          "data": {
            "text/plain": [
              "-1.3861671684434307"
            ]
          },
          "execution_count": 80,
          "metadata": {},
          "output_type": "execute_result"
        }
      ],
      "source": [
        "daily_bot_av_ret = ((1+bot_ret)**(288) - 1)*100\n",
        "daily_bot_av_ret"
      ]
    },
    {
      "cell_type": "code",
      "execution_count": null,
      "id": "electoral-runner",
      "metadata": {
        "id": "electoral-runner",
        "outputId": "e20d0404-1f8b-4d30-efc4-af5c44fbc244"
      },
      "outputs": [
        {
          "data": {
            "text/plain": [
              "-0.7707126562372602"
            ]
          },
          "execution_count": 81,
          "metadata": {},
          "output_type": "execute_result"
        }
      ],
      "source": [
        "daily_btc_av_ret = ((1+btc_ret)**(288) - 1)*100\n",
        "daily_btc_av_ret"
      ]
    },
    {
      "cell_type": "code",
      "execution_count": null,
      "id": "japanese-distinction",
      "metadata": {
        "id": "japanese-distinction"
      },
      "outputs": [],
      "source": [
        "excess_daily_av_ret = daily_bot_av_ret - daily_btc_av_ret"
      ]
    },
    {
      "cell_type": "code",
      "execution_count": null,
      "id": "brazilian-minute",
      "metadata": {
        "id": "brazilian-minute",
        "outputId": "2bd82594-65a5-4754-9db0-777effefb55d"
      },
      "outputs": [
        {
          "data": {
            "text/plain": [
              "-0.6154545122061705"
            ]
          },
          "execution_count": 83,
          "metadata": {},
          "output_type": "execute_result"
        }
      ],
      "source": [
        "excess_daily_av_ret"
      ]
    },
    {
      "cell_type": "code",
      "execution_count": null,
      "id": "loaded-protection",
      "metadata": {
        "id": "loaded-protection"
      },
      "outputs": [],
      "source": [
        "import matplotlib.pyplot as plt\n",
        "from scipy.stats import norm"
      ]
    },
    {
      "cell_type": "code",
      "execution_count": null,
      "id": "musical-bacteria",
      "metadata": {
        "id": "musical-bacteria",
        "outputId": "0f89ca68-e56c-43d6-9e26-4da9f4e3d7e0"
      },
      "outputs": [
        {
          "data": {
            "image/png": "[encoded data removed]",
            "text/plain": [
              "<Figure size 432x288 with 1 Axes>"
            ]
          },
          "metadata": {
            "needs_background": "light"
          },
          "output_type": "display_data"
        }
      ],
      "source": [
        "x = np.arange(-0.015,0.015,0.0001)\n",
        "norm_dist = norm.pdf(x, bot_ret, bot_std)\n",
        "\n",
        "plt.plot(x, norm_dist, color ='r')\n",
        "plt.show()"
      ]
    },
    {
      "cell_type": "code",
      "execution_count": null,
      "id": "general-missouri",
      "metadata": {
        "id": "general-missouri",
        "outputId": "8c959a9e-083a-483a-a542-746c387e778a"
      },
      "outputs": [
        {
          "data": {
            "text/plain": [
              "-0.6696294095343175"
            ]
          },
          "execution_count": 92,
          "metadata": {},
          "output_type": "execute_result"
        }
      ],
      "source": [
        "confidence_interval = 0.05\n",
        "\n",
        "var = norm.ppf(confidence_interval, bot_ret, bot_std)\n",
        "var*100"
      ]
    },
    {
      "cell_type": "code",
      "execution_count": null,
      "id": "literary-lighter",
      "metadata": {
        "id": "literary-lighter",
        "outputId": "22921a55-a69c-43ff-d8ed-bde0b1a2b02d"
      },
      "outputs": [
        {
          "data": {
            "text/plain": [
              "-11.363987912727831"
            ]
          },
          "execution_count": 94,
          "metadata": {},
          "output_type": "execute_result"
        }
      ],
      "source": [
        "n = 288\n",
        "\n",
        "var_day = var * np.sqrt(n)\n",
        "var_day*100"
      ]
    },
    {
      "cell_type": "code",
      "execution_count": null,
      "id": "bronze-montgomery",
      "metadata": {
        "id": "bronze-montgomery"
      },
      "outputs": [],
      "source": [
        "count = final_df.shape[0]\n",
        "\n",
        "lower = bot_ret - 2*bot_std / np.sqrt(count)\n",
        "upper = bot_ret + 2*bot_std / np.sqrt(count)"
      ]
    },
    {
      "cell_type": "code",
      "execution_count": null,
      "id": "attached-huntington",
      "metadata": {
        "id": "attached-huntington",
        "outputId": "78a73d26-94e1-4244-eacf-d41d36764ab5"
      },
      "outputs": [
        {
          "data": {
            "text/plain": [
              "-0.0001101430819239184"
            ]
          },
          "execution_count": 97,
          "metadata": {},
          "output_type": "execute_result"
        }
      ],
      "source": [
        "lower"
      ]
    },
    {
      "cell_type": "code",
      "execution_count": null,
      "id": "thirty-tutorial",
      "metadata": {
        "id": "thirty-tutorial",
        "outputId": "a280aa20-8675-427a-c6f9-df6fe2717802"
      },
      "outputs": [
        {
          "data": {
            "text/plain": [
              "1.3210418413766515e-05"
            ]
          },
          "execution_count": 98,
          "metadata": {},
          "output_type": "execute_result"
        }
      ],
      "source": [
        "upper"
      ]
    },
    {
      "cell_type": "code",
      "execution_count": null,
      "id": "loved-north",
      "metadata": {
        "id": "loved-north"
      },
      "outputs": [],
      "source": []
    }
  ],
  "metadata": {
    "kernelspec": {
      "display_name": "Python 3",
      "language": "python",
      "name": "python3"
    },
    "language_info": {
      "codemirror_mode": {
        "name": "ipython",
        "version": 3
      },
      "file_extension": ".py",
      "mimetype": "text/x-python",
      "name": "python",
      "nbconvert_exporter": "python",
      "pygments_lexer": "ipython3",
      "version": "3.7.10"
    },
    "colab": {
      "provenance": []
    }
  },
  "nbformat": 4,
  "nbformat_minor": 5
}